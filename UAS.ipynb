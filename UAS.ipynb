{
 "metadata": {
  "language_info": {
   "codemirror_mode": {
    "name": "ipython",
    "version": 3
   },
   "file_extension": ".py",
   "mimetype": "text/x-python",
   "name": "python",
   "nbconvert_exporter": "python",
   "pygments_lexer": "ipython3",
   "version": "3.7.3"
  },
  "orig_nbformat": 2,
  "kernelspec": {
   "name": "python3",
   "display_name": "Python 3.7.3 64-bit",
   "metadata": {
    "interpreter": {
     "hash": "e5030792b3492f6b12d94f1f48beca3d8e59ec05fd59d0aaaa48e684281ed297"
    }
   }
  }
 },
 "nbformat": 4,
 "nbformat_minor": 2,
 "cells": [
  {
   "cell_type": "code",
   "execution_count": 16,
   "metadata": {},
   "outputs": [],
   "source": [
    "import cv2"
   ]
  },
  {
   "cell_type": "code",
   "execution_count": 17,
   "metadata": {},
   "outputs": [],
   "source": [
    "cascade_car = 'xml/cars2.xml'\n",
    "cascade_bus = 'xml/Bus_front.xml'\n",
    "cascade_spd = 'xml/two_wheeler.xml'\n",
    "video_src = 'dataset/video9.mp4'"
   ]
  },
  {
   "cell_type": "code",
   "execution_count": 18,
   "metadata": {},
   "outputs": [],
   "source": [
    "car_cascade = cv2.CascadeClassifier(cascade_car)\n",
    "bus_cascade = cv2.CascadeClassifier(cascade_bus)\n",
    "spd_cascade = cv2.CascadeClassifier(cascade_spd)\n",
    "csb = cv2.VideoCapture(video_src)\n",
    "count = 0"
   ]
  },
  {
   "cell_type": "code",
   "execution_count": 19,
   "metadata": {},
   "outputs": [],
   "source": [
    "while True:\n",
    "    _,img = csb.read()\n",
    "    if (type(img) == type(None)):\n",
    "        break\n",
    "\n",
    "    rgb = cv2.cvtColor(img, cv2.COLOR_BGR2RGB)\n",
    "    cars = car_cascade.detectMultiScale(rgb, 1.4, 2) \n",
    "    bus = bus_cascade.detectMultiScale(rgb, 1.16, 2)\n",
    "    spd = spd_cascade.detectMultiScale(rgb, 1.1, 1)\n",
    "\n",
    "    for (x,y,w,h) in cars:\n",
    "        cv2.rectangle(img,(x,y),(x+w,y+h),(255,0,0),2)\n",
    "        cv2.putText(img,'Mobil',(x,y-10),cv2.FONT_HERSHEY_SIMPLEX,0.5,(255,0,0),2)\n",
    "\n",
    "    for (x,y,w,h) in bus:\n",
    "               \n",
    "        cv2.rectangle(img,(x,y),(x+w,y+h),(0,255,0),2)\n",
    "        cv2.putText(img,'Bus',(x,y-10),cv2.FONT_HERSHEY_SIMPLEX,0.5,(0,255,0),2)\n",
    "\n",
    "    for (x,y,w,h) in spd:\n",
    "\n",
    "        cv2.rectangle(img,(x,y),(x+w,y+h),(0,0,255),2)\n",
    "        cv2.putText(img,'Sepeda',(x,y-10),cv2.FONT_HERSHEY_SIMPLEX,0.5,(0,0,255),2)\n",
    "    \n",
    "    cv2.imshow('Deteksi Mobil, Buss, Sepeda', img)\n",
    "    \n",
    "    if cv2.waitKey(33) == 27:\n",
    "        break\n",
    "\t\n",
    "\t\n",
    "\n",
    "cv2.destroyAllWindows()"
   ]
  },
  {
   "cell_type": "code",
   "execution_count": 20,
   "metadata": {},
   "outputs": [],
   "source": [
    "while True:\n",
    "    _,img = csb.read()\n",
    "    if (type(img) == type(None)):\n",
    "        break\n",
    "    \n",
    "    height,width=img.shape[0:2]\n",
    "    img[0:40,0:width]=[0,0,0]\n",
    "\n",
    "    cv2.putText(img,'Jumlah Kendaraan Lewat  :',(5,25),cv2.FONT_HERSHEY_SIMPLEX,0.5,(0,0,255),2)\n",
    "    \n",
    "    cv2.line(img,(0,height-100),(width,height-100),(0,0,255),2)\n",
    "\n",
    "    rgb = cv2.cvtColor(img, cv2.COLOR_BGR2RGB)\n",
    "    cars = car_cascade.detectMultiScale(rgb, 1.4, 2) \n",
    "    bus = bus_cascade.detectMultiScale(rgb, 1.16, 2)\n",
    "    spd = spd_cascade.detectMultiScale(rgb, 1.1, 1)\n",
    "\n",
    "    for (x,y,w,h) in cars:\n",
    "\n",
    "        carsFy=int(y+h/2)\n",
    "        linFy=height-270\n",
    "        \n",
    "        if(carsFy<linFy+6 and carsFy>linFy-6):\n",
    "            \n",
    "            count=count+1\n",
    "            cv2.line(img,(0,height-220),(width,height-270),(0,0,0),1)\n",
    "            cv2.line(img,(0,height-270),(width,height-220),(0,0,0),1)\n",
    "\n",
    "        cv2.rectangle(img,(x,y),(x+w,y+h),(255,0,0),2)\n",
    "        cv2.putText(img,'Mobil',(x,y-10),cv2.FONT_HERSHEY_SIMPLEX,0.5,(255,0,0),2)\n",
    "        cv2.putText(img,str(count),(270,25),cv2.FONT_HERSHEY_SIMPLEX,0.5,(0,0,255),2)\n",
    "\n",
    "    for (x,y,w,h) in bus:\n",
    "               \n",
    "        busFy=int(y+h/2)\n",
    "        linFy=height-260\n",
    "        \n",
    "        if(busFy<linFy+6 and busFy>linFy-6):\n",
    "            \n",
    "            count=count+1\n",
    "            cv2.line(img,(0,height-210),(width,height-260),(0,0,0),1)\n",
    "            cv2.line(img,(0,height-260),(width,height-210),(0,0,0),1)\n",
    "\n",
    "        cv2.rectangle(img,(x,y),(x+w,y+h),(0,255,0),2)\n",
    "        cv2.putText(img,'Bus',(x,y-10),cv2.FONT_HERSHEY_SIMPLEX,0.5,(0,255,0),2)\n",
    "        cv2.putText(img,str(count),(270,25),cv2.FONT_HERSHEY_SIMPLEX,0.5,(0,0,255),2)\n",
    "\n",
    "    for (x,y,w,h) in spd:\n",
    "\n",
    "        spdFy=int(y+h/2)\n",
    "        linFy=height-250\n",
    "        \n",
    "        if(spdFy<linFy+6 and spdFy>linFy-6):\n",
    "            \n",
    "            count=count+1\n",
    "            cv2.line(img,(0,height-190),(width,height-250),(0,0,0),1)\n",
    "            cv2.line(img,(0,height-250),(width,height-190),(0,0,0),1)\n",
    "\n",
    "        cv2.rectangle(img,(x,y),(x+w,y+h),(0,0,255),2)\n",
    "        cv2.putText(img,'Sepeda',(x,y-10),cv2.FONT_HERSHEY_SIMPLEX,0.5,(0,0,255),2)\n",
    "        cv2.putText(img,str(count),(270,25),cv2.FONT_HERSHEY_SIMPLEX,0.5,(0,0,255),2)\n",
    "    \n",
    "    cv2.imshow('Deteksi Mobil, Buss, Sepeda', img)\n",
    "    \n",
    "    if cv2.waitKey(10)==10:\n",
    "        break\n",
    "\t\n",
    "\t\n",
    "\n",
    "cv2.destroyAllWindows()"
   ]
  }
 ]
}